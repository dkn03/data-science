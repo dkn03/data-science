{
 "cells": [
  {
   "cell_type": "code",
   "execution_count": 16,
   "metadata": {},
   "outputs": [],
   "source": [
    "import optuna\n",
    "from optuna.trial import TrialState\n",
    "\n",
    "import pandas as pd\n",
    "import torch\n",
    "import datetime\n",
    "import matplotlib.pyplot as plt\n",
    "\n",
    "from torch.utils.data import Dataset, DataLoader, random_split\n",
    "from torch import nn\n",
    "from torch import optim\n",
    "from sklearn.preprocessing import OneHotEncoder\n",
    "\n",
    "import utils\n",
    "\n",
    "import warnings\n",
    "warnings.filterwarnings('ignore')"
   ]
  },
  {
   "cell_type": "code",
   "execution_count": 2,
   "metadata": {},
   "outputs": [],
   "source": [
    "device = (torch.device('cuda') if torch.cuda.is_available() else torch.device('cpu'))"
   ]
  },
  {
   "cell_type": "markdown",
   "metadata": {},
   "source": [
    "# Подготовка данных"
   ]
  },
  {
   "cell_type": "code",
   "execution_count": 3,
   "metadata": {},
   "outputs": [],
   "source": [
    "class ChurnDataset(Dataset):\n",
    "    def __init__(self, x: torch.Tensor, y: torch.tensor):\n",
    "        self.x = x\n",
    "        self.y = y\n",
    "\n",
    "    def __getitem__(self, index):\n",
    "        data = self.x[index]\n",
    "        label = self.y[index]\n",
    "        return data, label\n",
    "\n",
    "    def __len__(self):\n",
    "        return len(self.x)"
   ]
  },
  {
   "cell_type": "code",
   "execution_count": 4,
   "metadata": {},
   "outputs": [],
   "source": [
    "dataframe = pd.read_csv('telecom_churn.csv')\n",
    "dataframe['Area code'] = dataframe['Area code'].astype(str)\n",
    "OUTPUT_COLUMN = 'Churn'\n",
    "to_drop = ['State']\n",
    "categorical = ['Area code', 'International plan', 'Voice mail plan']\n",
    "\n",
    "dataframe = utils.preprocess_df(dataframe, OUTPUT_COLUMN, categorical, to_drop= to_drop, resample=True)\n",
    "\n",
    "# Датафрейм в тензор\n",
    "x = torch.tensor(dataframe.drop(columns=OUTPUT_COLUMN).to_numpy()).to(device=device, dtype=torch.float)\n",
    "encoder = OneHotEncoder()\n",
    "y = encoder.fit_transform(dataframe[[OUTPUT_COLUMN]]).toarray()\n",
    "y = torch.tensor(y).to(device=device, dtype=torch.float)\n",
    "\n",
    "dataset = ChurnDataset(x, y)\n",
    "train_dataset, validation_dataset, test_dataset = random_split(dataset, (0.8, 0.1, 0.1))\n",
    "train_dataloader, validation_dataloader, test_dataloader = DataLoader(train_dataset, batch_size=8), DataLoader(validation_dataset, batch_size=len(validation_dataset)), DataLoader(test_dataset, batch_size=len(test_dataset))"
   ]
  },
  {
   "cell_type": "markdown",
   "metadata": {},
   "source": [
    "# Подготовка модели"
   ]
  },
  {
   "cell_type": "code",
   "execution_count": 5,
   "metadata": {},
   "outputs": [],
   "source": [
    "class MyModel(nn.Module):\n",
    "    \"\"\"\n",
    "    Класс для модели многослойного персептрона\n",
    "    \"\"\"\n",
    "    def __init__(self, n_layers, in_features, hidden_features, out_features):\n",
    "        super().__init__()\n",
    "        if n_layers < 1:\n",
    "            raise Exception(\"Incorrect number of layers\")\n",
    "        self.layers = []\n",
    "        if n_layers == 1:\n",
    "            self.layers.append(nn.Linear(in_features, out_features))\n",
    "            self.layers.append(nn.Softmax())\n",
    "        else:\n",
    "            for i in range(n_layers):\n",
    "                if i == 0:\n",
    "                    layer = nn.Linear(in_features, hidden_features)\n",
    "                    activation = nn.Tanh()\n",
    "\n",
    "                elif i == n_layers - 1:\n",
    "                    layer = nn.Linear(hidden_features, out_features)\n",
    "                    activation = nn.Softmax()\n",
    "                else:\n",
    "                    layer = nn.Linear(hidden_features, hidden_features)\n",
    "                    activation = nn.Tanh()\n",
    "                self.layers.append(layer.to(device=device))\n",
    "                self.layers.append(activation)\n",
    "        self.run = nn.Sequential(*self.layers)\n",
    "        \n",
    "    def forward(self, x):\n",
    "        return self.run(x)\n",
    "        "
   ]
  },
  {
   "cell_type": "code",
   "execution_count": 11,
   "metadata": {},
   "outputs": [],
   "source": [
    "def training_loop(n_epochs, optimizer, scheduler, model, loss_fn, train_loader, validation_loader, ):\n",
    "    best_score = 0\n",
    "    counter = 0\n",
    "    for epoch in range(n_epochs):\n",
    "        for data, label in train_loader:\n",
    "            output = model(data)\n",
    "            loss = loss_fn(output, label)\n",
    "            optimizer.zero_grad()\n",
    "            loss.backward()\n",
    "            optimizer.step()\n",
    "        scheduler.step()\n",
    "        summary_loss = 0\n",
    "        for data, label in validation_loader:\n",
    "                  \n",
    "            output = model(data)\n",
    "            \n",
    "            validation_score = utils.get_classification_metrics(label.argmax(1).cpu(), output.argmax(1).cpu())['Accuracy']\n",
    "\n",
    "\n",
    "\n",
    "        if best_score > validation_score:\n",
    "            counter += 1\n",
    "            if counter == 5:\n",
    "                print(f\"Early stop on epoch {epoch}\")\n",
    "                break\n",
    "        else:\n",
    "            counter = 0\n",
    "            best_score = validation_score\n",
    "\n",
    "        if epoch == 1 or epoch % 5 == 0:\n",
    "\n",
    "            print('{} Epoch {}, Training loss {}, Validation accuracy {}, lr {}'.format(\n",
    "                datetime.datetime.now(),\n",
    "                epoch,\n",
    "                loss / len(train_loader),\n",
    "                validation_score,\n",
    "                scheduler.get_last_lr())\n",
    "            )"
   ]
  },
  {
   "cell_type": "markdown",
   "metadata": {},
   "source": [
    "# Подбор параметров"
   ]
  },
  {
   "cell_type": "code",
   "execution_count": 7,
   "metadata": {},
   "outputs": [],
   "source": [
    "def objective(trial: optuna.Trial):\n",
    "\n",
    "    in_features = len(dataframe.columns) - 1 # Один из столбцов таблицы является выходным \n",
    "    out_features = len(torch.unique(dataset.y))  \n",
    "    hidden_features = trial.suggest_int(\"hidden_features\", 5, 50, step=5)\n",
    "    n_layers = trial.suggest_int(\"n_layers\", 1, 4)\n",
    "    model = MyModel(n_layers, in_features, hidden_features, out_features).to(device=device)\n",
    "    \n",
    "    optimizer_name = trial.suggest_categorical(\"optimizer\", [\"Adam\", \"RMSprop\", \"SGD\"])\n",
    "    optimizer = getattr(optim, optimizer_name)(model.parameters(), lr=1e-2)\n",
    "    #optimizer = torch.optim.Adam(model.parameters(), lr=1e-2)\n",
    "    lr_scheduler = torch.optim.lr_scheduler.StepLR(optimizer=optimizer, step_size=30)\n",
    "    loss_fn = torch.nn.CrossEntropyLoss()\n",
    "    N_EPOCH = 100\n",
    "    for epoch in range(N_EPOCH):\n",
    "        model.train()\n",
    "        for data, label in train_dataloader:\n",
    "            output = model(data)\n",
    "            loss = loss_fn(output, label)\n",
    "            optimizer.zero_grad()\n",
    "            loss.backward()\n",
    "            optimizer.step()\n",
    "        lr_scheduler.step()\n",
    "        model.eval()\n",
    "\n",
    "        for data, label in validation_dataloader:\n",
    "                  \n",
    "            output = model(data)\n",
    "            validation_score = utils.get_classification_metrics(label.argmax(1).cpu(), output.argmax(1).cpu())['Accuracy']\n",
    "\n",
    "        \n",
    "        trial.report(validation_score, epoch)\n",
    "\n",
    "        if trial.should_prune():\n",
    "            raise optuna.exceptions.TrialPruned()\n",
    "        \n",
    "    return validation_score"
   ]
  },
  {
   "cell_type": "code",
   "execution_count": 8,
   "metadata": {},
   "outputs": [
    {
     "name": "stderr",
     "output_type": "stream",
     "text": [
      "[I 2024-04-29 16:46:34,651] A new study created in memory with name: no-name-91b593a2-63c6-4377-91fc-d6318fc16c35\n",
      "[I 2024-04-29 16:49:07,376] Trial 0 finished with value: 0.8106194690265487 and parameters: {'hidden_features': 10, 'n_layers': 3, 'optimizer': 'SGD'}. Best is trial 0 with value: 0.8106194690265487.\n",
      "[I 2024-04-29 16:51:21,575] Trial 1 finished with value: 0.8035398230088495 and parameters: {'hidden_features': 40, 'n_layers': 2, 'optimizer': 'SGD'}. Best is trial 0 with value: 0.8106194690265487.\n",
      "[I 2024-04-29 16:54:16,920] Trial 2 finished with value: 0.8743362831858407 and parameters: {'hidden_features': 10, 'n_layers': 4, 'optimizer': 'RMSprop'}. Best is trial 2 with value: 0.8743362831858407.\n",
      "[I 2024-04-29 16:56:42,480] Trial 3 finished with value: 0.8831858407079646 and parameters: {'hidden_features': 25, 'n_layers': 2, 'optimizer': 'Adam'}. Best is trial 3 with value: 0.8831858407079646.\n",
      "[I 2024-04-29 16:58:26,483] Trial 4 finished with value: 0.7982300884955752 and parameters: {'hidden_features': 45, 'n_layers': 1, 'optimizer': 'SGD'}. Best is trial 3 with value: 0.8831858407079646.\n",
      "[I 2024-04-29 17:00:58,225] Trial 5 finished with value: 0.8814159292035398 and parameters: {'hidden_features': 15, 'n_layers': 3, 'optimizer': 'RMSprop'}. Best is trial 3 with value: 0.8831858407079646.\n",
      "[I 2024-04-29 17:01:03,773] Trial 6 pruned. \n",
      "[I 2024-04-29 17:01:05,199] Trial 7 pruned. \n",
      "[I 2024-04-29 17:01:06,230] Trial 8 pruned. \n",
      "[I 2024-04-29 17:01:07,922] Trial 9 pruned. \n",
      "[I 2024-04-29 17:03:50,462] Trial 10 finished with value: 0.8849557522123894 and parameters: {'hidden_features': 35, 'n_layers': 2, 'optimizer': 'Adam'}. Best is trial 10 with value: 0.8849557522123894.\n",
      "[I 2024-04-29 17:03:55,666] Trial 11 pruned. \n",
      "[I 2024-04-29 17:04:48,813] Trial 12 pruned. \n",
      "[I 2024-04-29 17:05:44,446] Trial 13 pruned. \n",
      "[I 2024-04-29 17:05:52,343] Trial 14 pruned. \n",
      "[I 2024-04-29 17:05:57,773] Trial 15 pruned. \n",
      "[I 2024-04-29 17:06:02,890] Trial 16 pruned. \n",
      "[I 2024-04-29 17:06:08,134] Trial 17 pruned. \n",
      "[I 2024-04-29 17:06:14,411] Trial 18 pruned. \n",
      "[I 2024-04-29 17:06:18,494] Trial 19 pruned. \n",
      "[I 2024-04-29 17:08:47,364] Trial 20 finished with value: 0.8867256637168142 and parameters: {'hidden_features': 50, 'n_layers': 2, 'optimizer': 'RMSprop'}. Best is trial 20 with value: 0.8867256637168142.\n",
      "[I 2024-04-29 17:08:48,814] Trial 21 pruned. \n",
      "[I 2024-04-29 17:08:50,274] Trial 22 pruned. \n",
      "[I 2024-04-29 17:09:40,449] Trial 23 pruned. \n",
      "[I 2024-04-29 17:09:58,968] Trial 24 pruned. \n",
      "[I 2024-04-29 17:10:57,674] Trial 25 pruned. \n",
      "[I 2024-04-29 17:11:01,609] Trial 26 pruned. \n",
      "[I 2024-04-29 17:11:06,352] Trial 27 pruned. \n",
      "[I 2024-04-29 17:11:12,685] Trial 28 pruned. \n",
      "[I 2024-04-29 17:11:19,443] Trial 29 pruned. \n",
      "[I 2024-04-29 17:11:20,744] Trial 30 pruned. \n",
      "[I 2024-04-29 17:11:26,624] Trial 31 pruned. \n",
      "[I 2024-04-29 17:13:26,856] Trial 32 pruned. \n",
      "[I 2024-04-29 17:14:10,004] Trial 33 pruned. \n",
      "[I 2024-04-29 17:14:27,488] Trial 34 pruned. \n",
      "[I 2024-04-29 17:14:44,646] Trial 35 pruned. \n",
      "[I 2024-04-29 17:14:47,382] Trial 36 pruned. \n",
      "[I 2024-04-29 17:15:33,517] Trial 37 pruned. \n",
      "[I 2024-04-29 17:18:33,719] Trial 38 finished with value: 0.8814159292035398 and parameters: {'hidden_features': 25, 'n_layers': 3, 'optimizer': 'RMSprop'}. Best is trial 20 with value: 0.8867256637168142.\n",
      "[I 2024-04-29 17:18:35,270] Trial 39 pruned. \n",
      "[I 2024-04-29 17:18:36,645] Trial 40 pruned. \n",
      "[I 2024-04-29 17:18:42,619] Trial 41 pruned. \n",
      "[I 2024-04-29 17:20:41,595] Trial 42 pruned. \n",
      "[I 2024-04-29 17:20:58,621] Trial 43 pruned. \n",
      "[I 2024-04-29 17:21:00,630] Trial 44 pruned. \n",
      "[I 2024-04-29 17:21:03,222] Trial 45 pruned. \n",
      "[I 2024-04-29 17:21:04,802] Trial 46 pruned. \n",
      "[I 2024-04-29 17:21:11,375] Trial 47 pruned. \n",
      "[I 2024-04-29 17:22:12,569] Trial 48 pruned. \n",
      "[I 2024-04-29 17:22:18,234] Trial 49 pruned. \n",
      "[I 2024-04-29 17:23:33,836] Trial 50 pruned. \n",
      "[I 2024-04-29 17:23:41,789] Trial 51 pruned. \n",
      "[I 2024-04-29 17:23:43,744] Trial 52 pruned. \n",
      "[I 2024-04-29 17:23:48,942] Trial 53 pruned. \n",
      "[I 2024-04-29 17:23:54,052] Trial 54 pruned. \n",
      "[I 2024-04-29 17:24:33,490] Trial 55 pruned. \n",
      "[I 2024-04-29 17:26:18,468] Trial 56 pruned. \n",
      "[I 2024-04-29 17:26:20,950] Trial 57 pruned. \n",
      "[I 2024-04-29 17:26:26,857] Trial 58 pruned. \n",
      "[I 2024-04-29 17:26:28,573] Trial 59 pruned. \n",
      "[I 2024-04-29 17:26:32,489] Trial 60 pruned. \n",
      "[I 2024-04-29 17:26:34,093] Trial 61 pruned. \n",
      "[I 2024-04-29 17:26:35,764] Trial 62 pruned. \n",
      "[I 2024-04-29 17:26:38,557] Trial 63 pruned. \n",
      "[I 2024-04-29 17:26:40,839] Trial 64 pruned. \n",
      "[I 2024-04-29 17:26:45,499] Trial 65 pruned. \n",
      "[I 2024-04-29 17:27:33,372] Trial 66 pruned. \n",
      "[I 2024-04-29 17:27:39,338] Trial 67 pruned. \n",
      "[I 2024-04-29 17:27:40,962] Trial 68 pruned. \n",
      "[I 2024-04-29 17:27:42,202] Trial 69 pruned. \n",
      "[I 2024-04-29 17:28:51,899] Trial 70 pruned. \n",
      "[I 2024-04-29 17:28:53,366] Trial 71 pruned. \n",
      "[I 2024-04-29 17:28:54,537] Trial 72 pruned. \n",
      "[I 2024-04-29 17:28:56,346] Trial 73 pruned. \n",
      "[I 2024-04-29 17:28:58,473] Trial 74 pruned. \n",
      "[I 2024-04-29 17:29:02,977] Trial 75 pruned. \n",
      "[I 2024-04-29 17:29:50,343] Trial 76 pruned. \n",
      "[I 2024-04-29 17:29:55,537] Trial 77 pruned. \n",
      "[I 2024-04-29 17:32:21,685] Trial 78 finished with value: 0.8814159292035398 and parameters: {'hidden_features': 30, 'n_layers': 2, 'optimizer': 'RMSprop'}. Best is trial 20 with value: 0.8867256637168142.\n",
      "[I 2024-04-29 17:33:06,433] Trial 79 pruned. \n",
      "[I 2024-04-29 17:33:56,807] Trial 80 pruned. \n",
      "[I 2024-04-29 17:36:15,388] Trial 81 finished with value: 0.8849557522123894 and parameters: {'hidden_features': 30, 'n_layers': 2, 'optimizer': 'RMSprop'}. Best is trial 20 with value: 0.8867256637168142.\n",
      "[I 2024-04-29 17:38:30,252] Trial 82 finished with value: 0.8831858407079646 and parameters: {'hidden_features': 30, 'n_layers': 2, 'optimizer': 'RMSprop'}. Best is trial 20 with value: 0.8867256637168142.\n",
      "[I 2024-04-29 17:38:34,264] Trial 83 pruned. \n",
      "[I 2024-04-29 17:38:35,622] Trial 84 pruned. \n",
      "[I 2024-04-29 17:39:19,502] Trial 85 pruned. \n",
      "[I 2024-04-29 17:39:20,862] Trial 86 pruned. \n",
      "[I 2024-04-29 17:40:45,603] Trial 87 pruned. \n",
      "[I 2024-04-29 17:40:46,985] Trial 88 pruned. \n",
      "[I 2024-04-29 17:41:56,484] Trial 89 pruned. \n",
      "[I 2024-04-29 17:41:57,851] Trial 90 pruned. \n",
      "[I 2024-04-29 17:42:25,276] Trial 91 pruned. \n",
      "[I 2024-04-29 17:43:07,891] Trial 92 pruned. \n",
      "[I 2024-04-29 17:43:09,707] Trial 93 pruned. \n",
      "[I 2024-04-29 17:43:11,266] Trial 94 pruned. \n",
      "[I 2024-04-29 17:43:15,660] Trial 95 pruned. \n",
      "[I 2024-04-29 17:43:19,713] Trial 96 pruned. \n",
      "[I 2024-04-29 17:43:21,288] Trial 97 pruned. \n",
      "[I 2024-04-29 17:43:22,557] Trial 98 pruned. \n",
      "[I 2024-04-29 17:43:23,929] Trial 99 pruned. \n"
     ]
    },
    {
     "name": "stdout",
     "output_type": "stream",
     "text": [
      "Study statistics: \n",
      "  Number of finished trials:  100\n",
      "  Number of pruned trials:  88\n",
      "  Number of complete trials:  12\n",
      "Best trial:\n",
      "  Value:  0.8867256637168142\n",
      "  Params: \n",
      "    hidden_features: 50\n",
      "    n_layers: 2\n",
      "    optimizer: RMSprop\n"
     ]
    }
   ],
   "source": [
    "study = optuna.create_study(direction='maximize')\n",
    "study.optimize(objective, n_trials=100)\n"
   ]
  },
  {
   "cell_type": "code",
   "execution_count": 26,
   "metadata": {},
   "outputs": [
    {
     "name": "stdout",
     "output_type": "stream",
     "text": [
      "Study statistics: \n",
      "  Number of finished trials:  100\n",
      "  Number of pruned trials:  88\n",
      "  Number of complete trials:  12\n",
      "Best trial:\n",
      "  Value:  0.8867256637168142\n",
      "  Params: \n",
      "    hidden_features: 50\n",
      "    n_layers: 2\n",
      "    optimizer: RMSprop\n"
     ]
    }
   ],
   "source": [
    "pruned_trials = study.get_trials(deepcopy=False, states=[TrialState.PRUNED])\n",
    "complete_trials = study.get_trials(deepcopy=False, states=[TrialState.COMPLETE])\n",
    "print(\"Study statistics: \")\n",
    "print(\"  Number of finished trials: \", len(study.trials))\n",
    "print(\"  Number of pruned trials: \", len(pruned_trials))\n",
    "print(\"  Number of complete trials: \", len(complete_trials))\n",
    "print(\"Best trial:\")\n",
    "trial = study.best_trial\n",
    "print(\"  Value: \", trial.value)\n",
    "print(\"  Params: \")\n",
    "for key, value in trial.params.items():\n",
    "    print(\"    {}: {}\".format(key, value))"
   ]
  },
  {
   "cell_type": "code",
   "execution_count": 33,
   "metadata": {},
   "outputs": [
    {
     "name": "stdout",
     "output_type": "stream",
     "text": [
      "Число входных признаков - 19\n",
      "Число выходных признаков - 2\n",
      "2024-04-29 19:22:16.148257 Epoch 0, Training loss 0.0007105621625669301, Validation accuracy 0.7433628318584071, lr [0.01]\n",
      "2024-04-29 19:22:17.501575 Epoch 1, Training loss 0.0006625524256378412, Validation accuracy 0.8053097345132744, lr [0.01]\n",
      "2024-04-29 19:22:22.830602 Epoch 5, Training loss 0.0005580703727900982, Validation accuracy 0.8584070796460177, lr [0.01]\n",
      "2024-04-29 19:22:29.483512 Epoch 10, Training loss 0.0005543644074350595, Validation accuracy 0.8619469026548673, lr [0.01]\n",
      "2024-04-29 19:22:36.128645 Epoch 15, Training loss 0.0005534695810638368, Validation accuracy 0.8672566371681416, lr [0.01]\n",
      "2024-04-29 19:22:42.747544 Epoch 20, Training loss 0.0005536751123145223, Validation accuracy 0.8601769911504424, lr [0.01]\n",
      "Early stop on epoch 22\n"
     ]
    }
   ],
   "source": [
    "in_features = len(dataframe.columns) - 1 # Один из столбцов таблицы является выходным\n",
    "print(f\"Число входных признаков - {in_features}\")\n",
    "out_features = len(torch.unique(dataset.y))\n",
    "print(f\"Число выходных признаков - {out_features}\")\n",
    "# Гиперпараметры модели, полученные выше\n",
    "n_layers = 2 \n",
    "hidden_features = 50\n",
    "N_EPOCH = 100\n",
    "\n",
    "model = MyModel(n_layers, in_features, hidden_features, out_features).to(device=device)\n",
    "optimizer = torch.optim.RMSprop(model.parameters(), lr=1e-2)\n",
    "lr_scheduler = torch.optim.lr_scheduler.StepLR(optimizer=optimizer, step_size=30)\n",
    "loss_fn = torch.nn.CrossEntropyLoss()\n",
    "\n",
    "training_loop(N_EPOCH, optimizer, lr_scheduler, model, loss_fn, train_dataloader, validation_dataloader)\n",
    "torch.save(model.state_dict(), f\"MyModel.pt\")"
   ]
  },
  {
   "cell_type": "code",
   "execution_count": 34,
   "metadata": {},
   "outputs": [],
   "source": [
    "# Результаты из предыдущей практической работы\n",
    "results = {'Метод опорных векторов': 0.909,\n",
    " 'Дерево решений': 0.8796886058032555,\n",
    " 'Обрезанное дерево решений': 0.9263977353149327,\n",
    " 'Бэггинг': 0.940552016985138,\n",
    " 'Бустинг': 0.940552016985138,\n",
    " 'Стекинг': 0.9532908704883227}"
   ]
  },
  {
   "cell_type": "code",
   "execution_count": 35,
   "metadata": {},
   "outputs": [
    {
     "name": "stdout",
     "output_type": "stream",
     "text": [
      "{'Accuracy': 0.8831858407079646, 'Precision': 0.9362549800796812, 'Recall': 0.8245614035087719, 'F1': 0.8768656716417911, 'Roc auc score': 0.8837092731829573}\n"
     ]
    }
   ],
   "source": [
    "\n",
    "for data, label in test_dataloader:\n",
    "    label = label.argmax(1)\n",
    "    predicted = model(data).argmax(1)\n",
    "    #print(label == predicted)\n",
    "    score = utils.get_classification_metrics(label.cpu(), predicted.cpu())\n",
    "    results['Многослойный персептрон'] = score['Accuracy']\n",
    "    print(score)"
   ]
  },
  {
   "cell_type": "code",
   "execution_count": 36,
   "metadata": {},
   "outputs": [
    {
     "data": {
      "image/png": "[encoded data removed]",
      "text/plain": [
       "<Figure size 2000x700 with 1 Axes>"
      ]
     },
     "metadata": {},
     "output_type": "display_data"
    }
   ],
   "source": [
    "plt.figure(figsize=(20, 7))\n",
    "plt.axhline(results['Многослойный персептрон'], linestyle='--', color='grey', label='123')\n",
    "plt.bar(results.keys(), results.values())\n",
    "plt.show()"
   ]
  }
 ],
 "metadata": {
  "kernelspec": {
   "display_name": "Python 3",
   "language": "python",
   "name": "python3"
  },
  "language_info": {
   "codemirror_mode": {
    "name": "ipython",
    "version": 3
   },
   "file_extension": ".py",
   "mimetype": "text/x-python",
   "name": "python",
   "nbconvert_exporter": "python",
   "pygments_lexer": "ipython3",
   "version": "3.11.3"
  }
 },
 "nbformat": 4,
 "nbformat_minor": 2
}
