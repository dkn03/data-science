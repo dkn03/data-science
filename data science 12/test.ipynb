{
 "cells": [
  {
   "cell_type": "code",
   "execution_count": 8,
   "metadata": {},
   "outputs": [],
   "source": [
    "import torch\n",
    "\n",
    "from torch.utils.data import DataLoader\n",
    "from utils import extract_data, CardDataset\n",
    "from torchvision.models import resnet18"
   ]
  },
  {
   "cell_type": "code",
   "execution_count": 9,
   "metadata": {},
   "outputs": [],
   "source": [
    "device = (torch.device('cuda') if torch.cuda.is_available() else torch.device('cpu'))"
   ]
  },
  {
   "cell_type": "code",
   "execution_count": 10,
   "metadata": {},
   "outputs": [],
   "source": [
    "def test_model(model, dataloader: DataLoader):\n",
    "    counter = 0\n",
    "    for item, label in dataloader:\n",
    "        item = item.to(device=device)\n",
    "        label = label.to(device=device)\n",
    "        #print(model(item).argmax(), label.argmax())\n",
    "        if torch.equal(model(item).argmax(), label.argmax()):\n",
    "        #if model(item) == label:\n",
    "            counter += 1\n",
    "    return counter / len(dataloader.dataset)"
   ]
  },
  {
   "cell_type": "code",
   "execution_count": 11,
   "metadata": {},
   "outputs": [],
   "source": [
    "path = \"../12 dataset/test/\""
   ]
  },
  {
   "cell_type": "markdown",
   "metadata": {},
   "source": [
    "# Тестирование на всех классах"
   ]
  },
  {
   "cell_type": "code",
   "execution_count": null,
   "metadata": {},
   "outputs": [],
   "source": []
  },
  {
   "cell_type": "code",
   "execution_count": 12,
   "metadata": {},
   "outputs": [
    {
     "name": "stdout",
     "output_type": "stream",
     "text": [
      "Точность модели на всех классах - 0.3283018867924528\n"
     ]
    }
   ],
   "source": [
    "\n",
    "test_dataset = CardDataset(*extract_data(path, mode='all'), path=path)\n",
    "test_dataloader = DataLoader(test_dataset, batch_size=1)\n",
    "\n",
    "model = resnet18()\n",
    "model.fc = torch.nn.Linear(model.fc.in_features, 53)\n",
    "torch.nn.init.xavier_uniform_(model.fc.weight) \n",
    "model = model.to(device=device)\n",
    "model.load_state_dict(torch.load(\"resnet.pt\"))\n",
    "model.eval()\n",
    "print(f\"Точность модели на всех классах - {test_model(model, test_dataloader)}\")"
   ]
  },
  {
   "cell_type": "markdown",
   "metadata": {},
   "source": [
    "# Определение масти карты"
   ]
  },
  {
   "cell_type": "code",
   "execution_count": 13,
   "metadata": {},
   "outputs": [
    {
     "name": "stdout",
     "output_type": "stream",
     "text": [
      "Точность модели, определяющей масть карты  - 0.8679245283018868\n"
     ]
    }
   ],
   "source": [
    "test_dataset = CardDataset(*extract_data(path, mode='suits'), path=path)\n",
    "test_dataloader = DataLoader(test_dataset, batch_size=1)\n",
    "model = resnet18()\n",
    "model.fc = torch.nn.Linear(model.fc.in_features, 5)\n",
    "torch.nn.init.xavier_uniform_(model.fc.weight) \n",
    "model.to(device=device)\n",
    "model.load_state_dict(torch.load(\"suits_resnet.pt\"))\n",
    "model.eval()\n",
    "print(f\"Точность модели, определяющей масть карты  - {test_model(model, test_dataloader)}\")"
   ]
  },
  {
   "cell_type": "markdown",
   "metadata": {},
   "source": [
    "# Определение значения на карте"
   ]
  },
  {
   "cell_type": "code",
   "execution_count": 14,
   "metadata": {},
   "outputs": [
    {
     "name": "stdout",
     "output_type": "stream",
     "text": [
      "Точность модели, определяющей масть карты  - 0.5735849056603773\n"
     ]
    }
   ],
   "source": [
    "test_dataset = CardDataset(*extract_data(path, mode='values'), path=path)\n",
    "test_dataloader = DataLoader(test_dataset, batch_size=1)\n",
    "model = resnet18().to(device=device)\n",
    "model.fc = torch.nn.Linear(model.fc.in_features, 14)\n",
    "torch.nn.init.xavier_uniform_(model.fc.weight) \n",
    "model.to(device=device)\n",
    "model.load_state_dict(torch.load(\"values_resnet.pt\"))\n",
    "model.eval()\n",
    "print(f\"Точность модели, определяющей масть карты  - {test_model(model, test_dataloader)}\")"
   ]
  }
 ],
 "metadata": {
  "kernelspec": {
   "display_name": "Python 3",
   "language": "python",
   "name": "python3"
  },
  "language_info": {
   "codemirror_mode": {
    "name": "ipython",
    "version": 3
   },
   "file_extension": ".py",
   "mimetype": "text/x-python",
   "name": "python",
   "nbconvert_exporter": "python",
   "pygments_lexer": "ipython3",
   "version": "3.11.3"
  }
 },
 "nbformat": 4,
 "nbformat_minor": 2
}
