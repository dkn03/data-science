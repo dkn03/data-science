{
 "cells": [
  {
   "cell_type": "code",
   "execution_count": 1,
   "metadata": {},
   "outputs": [],
   "source": [
    "import pandas as pd\n",
    "import matplotlib.pyplot as plt\n",
    "\n",
    "from sklearn.tree import DecisionTreeRegressor\n",
    "from sklearn.model_selection import  train_test_split\n",
    "from sklearn.ensemble import BaggingRegressor, GradientBoostingRegressor, StackingRegressor\n",
    "\n",
    "from sklearn.linear_model import LinearRegression, Lasso, Ridge, BayesianRidge, Lars, SGDRegressor\n",
    "from sklearn.pipeline import Pipeline\n",
    "from sklearn.svm import SVR\n",
    "from sklearn.kernel_ridge import KernelRidge\n",
    "\n",
    "import utils\n",
    "\n",
    "import warnings\n",
    "warnings.filterwarnings('ignore')"
   ]
  },
  {
   "cell_type": "code",
   "execution_count": 2,
   "metadata": {},
   "outputs": [
    {
     "data": {
      "text/html": [
       "<div>\n",
       "<style scoped>\n",
       "    .dataframe tbody tr th:only-of-type {\n",
       "        vertical-align: middle;\n",
       "    }\n",
       "\n",
       "    .dataframe tbody tr th {\n",
       "        vertical-align: top;\n",
       "    }\n",
       "\n",
       "    .dataframe thead th {\n",
       "        text-align: right;\n",
       "    }\n",
       "</style>\n",
       "<table border=\"1\" class=\"dataframe\">\n",
       "  <thead>\n",
       "    <tr style=\"text-align: right;\">\n",
       "      <th></th>\n",
       "      <th>id</th>\n",
       "      <th>Количество.комнат</th>\n",
       "      <th>Студия</th>\n",
       "      <th>Общая.площадь</th>\n",
       "      <th>Этаж</th>\n",
       "      <th>Этажей.в.доме</th>\n",
       "      <th>Парковка</th>\n",
       "      <th>Совмещенный.санузел</th>\n",
       "      <th>Раздельный.санузел</th>\n",
       "      <th>Лифт</th>\n",
       "      <th>...</th>\n",
       "      <th>Балкон_3</th>\n",
       "      <th>Балкон_4</th>\n",
       "      <th>Железобетонные.перекрытия_1</th>\n",
       "      <th>Смешанные.перекрытия_1</th>\n",
       "      <th>Деревянные.перекрытия_1</th>\n",
       "      <th>Панельные.стены_1</th>\n",
       "      <th>Блочные.стены_1</th>\n",
       "      <th>Деревянные.стены_1</th>\n",
       "      <th>Кирпичные.стены_1</th>\n",
       "      <th>Монолитные.стены_1</th>\n",
       "    </tr>\n",
       "  </thead>\n",
       "  <tbody>\n",
       "    <tr>\n",
       "      <th>0</th>\n",
       "      <td>896</td>\n",
       "      <td>0.25</td>\n",
       "      <td>0</td>\n",
       "      <td>0.327273</td>\n",
       "      <td>0.117647</td>\n",
       "      <td>0.125000</td>\n",
       "      <td>0</td>\n",
       "      <td>1</td>\n",
       "      <td>0</td>\n",
       "      <td>0</td>\n",
       "      <td>...</td>\n",
       "      <td>0.0</td>\n",
       "      <td>0.0</td>\n",
       "      <td>1.0</td>\n",
       "      <td>0.0</td>\n",
       "      <td>0.0</td>\n",
       "      <td>1.0</td>\n",
       "      <td>0.0</td>\n",
       "      <td>0.0</td>\n",
       "      <td>0.0</td>\n",
       "      <td>0.0</td>\n",
       "    </tr>\n",
       "    <tr>\n",
       "      <th>1</th>\n",
       "      <td>399</td>\n",
       "      <td>0.25</td>\n",
       "      <td>0</td>\n",
       "      <td>0.314545</td>\n",
       "      <td>0.235294</td>\n",
       "      <td>0.125000</td>\n",
       "      <td>0</td>\n",
       "      <td>1</td>\n",
       "      <td>0</td>\n",
       "      <td>0</td>\n",
       "      <td>...</td>\n",
       "      <td>0.0</td>\n",
       "      <td>0.0</td>\n",
       "      <td>1.0</td>\n",
       "      <td>0.0</td>\n",
       "      <td>0.0</td>\n",
       "      <td>1.0</td>\n",
       "      <td>0.0</td>\n",
       "      <td>0.0</td>\n",
       "      <td>0.0</td>\n",
       "      <td>0.0</td>\n",
       "    </tr>\n",
       "    <tr>\n",
       "      <th>2</th>\n",
       "      <td>1515</td>\n",
       "      <td>0.25</td>\n",
       "      <td>0</td>\n",
       "      <td>0.390909</td>\n",
       "      <td>0.000000</td>\n",
       "      <td>0.291667</td>\n",
       "      <td>0</td>\n",
       "      <td>0</td>\n",
       "      <td>0</td>\n",
       "      <td>1</td>\n",
       "      <td>...</td>\n",
       "      <td>0.0</td>\n",
       "      <td>0.0</td>\n",
       "      <td>1.0</td>\n",
       "      <td>0.0</td>\n",
       "      <td>0.0</td>\n",
       "      <td>1.0</td>\n",
       "      <td>0.0</td>\n",
       "      <td>0.0</td>\n",
       "      <td>0.0</td>\n",
       "      <td>0.0</td>\n",
       "    </tr>\n",
       "    <tr>\n",
       "      <th>3</th>\n",
       "      <td>677</td>\n",
       "      <td>0.00</td>\n",
       "      <td>0</td>\n",
       "      <td>0.211818</td>\n",
       "      <td>0.000000</td>\n",
       "      <td>0.333333</td>\n",
       "      <td>0</td>\n",
       "      <td>1</td>\n",
       "      <td>0</td>\n",
       "      <td>0</td>\n",
       "      <td>...</td>\n",
       "      <td>0.0</td>\n",
       "      <td>0.0</td>\n",
       "      <td>1.0</td>\n",
       "      <td>0.0</td>\n",
       "      <td>0.0</td>\n",
       "      <td>0.0</td>\n",
       "      <td>0.0</td>\n",
       "      <td>0.0</td>\n",
       "      <td>0.0</td>\n",
       "      <td>1.0</td>\n",
       "    </tr>\n",
       "    <tr>\n",
       "      <th>4</th>\n",
       "      <td>1485</td>\n",
       "      <td>0.00</td>\n",
       "      <td>0</td>\n",
       "      <td>0.318182</td>\n",
       "      <td>0.411765</td>\n",
       "      <td>0.291667</td>\n",
       "      <td>0</td>\n",
       "      <td>1</td>\n",
       "      <td>0</td>\n",
       "      <td>1</td>\n",
       "      <td>...</td>\n",
       "      <td>0.0</td>\n",
       "      <td>0.0</td>\n",
       "      <td>1.0</td>\n",
       "      <td>0.0</td>\n",
       "      <td>0.0</td>\n",
       "      <td>0.0</td>\n",
       "      <td>0.0</td>\n",
       "      <td>0.0</td>\n",
       "      <td>1.0</td>\n",
       "      <td>0.0</td>\n",
       "    </tr>\n",
       "  </tbody>\n",
       "</table>\n",
       "<p>5 rows × 47 columns</p>\n",
       "</div>"
      ],
      "text/plain": [
       "     id  Количество.комнат  Студия  Общая.площадь      Этаж  Этажей.в.доме   \n",
       "0   896               0.25       0       0.327273  0.117647       0.125000  \\\n",
       "1   399               0.25       0       0.314545  0.235294       0.125000   \n",
       "2  1515               0.25       0       0.390909  0.000000       0.291667   \n",
       "3   677               0.00       0       0.211818  0.000000       0.333333   \n",
       "4  1485               0.00       0       0.318182  0.411765       0.291667   \n",
       "\n",
       "   Парковка  Совмещенный.санузел  Раздельный.санузел  Лифт  ...  Балкон_3   \n",
       "0         0                    1                   0     0  ...       0.0  \\\n",
       "1         0                    1                   0     0  ...       0.0   \n",
       "2         0                    0                   0     1  ...       0.0   \n",
       "3         0                    1                   0     0  ...       0.0   \n",
       "4         0                    1                   0     1  ...       0.0   \n",
       "\n",
       "   Балкон_4  Железобетонные.перекрытия_1  Смешанные.перекрытия_1   \n",
       "0       0.0                          1.0                     0.0  \\\n",
       "1       0.0                          1.0                     0.0   \n",
       "2       0.0                          1.0                     0.0   \n",
       "3       0.0                          1.0                     0.0   \n",
       "4       0.0                          1.0                     0.0   \n",
       "\n",
       "   Деревянные.перекрытия_1  Панельные.стены_1  Блочные.стены_1   \n",
       "0                      0.0                1.0              0.0  \\\n",
       "1                      0.0                1.0              0.0   \n",
       "2                      0.0                1.0              0.0   \n",
       "3                      0.0                0.0              0.0   \n",
       "4                      0.0                0.0              0.0   \n",
       "\n",
       "   Деревянные.стены_1  Кирпичные.стены_1  Монолитные.стены_1  \n",
       "0                 0.0                0.0                 0.0  \n",
       "1                 0.0                0.0                 0.0  \n",
       "2                 0.0                0.0                 0.0  \n",
       "3                 0.0                0.0                 1.0  \n",
       "4                 0.0                1.0                 0.0  \n",
       "\n",
       "[5 rows x 47 columns]"
      ]
     },
     "execution_count": 2,
     "metadata": {},
     "output_type": "execute_result"
    }
   ],
   "source": [
    "dataframe = pd.read_csv(\"house_price.csv\")\n",
    "OUTPUT_COLUMN = 'Цена'\n",
    "\n",
    "# Категориальные признаки уже закодированы, однако всё еще необходимо удалить по одному столбцу для каждого закодированного признака\n",
    "feature_groups = [['Без.ремонта', 'Дизайнерский', 'Евроремонт', 'Косметический'],\n",
    "                  ['Балкон', 'Лоджия'], \n",
    "                  ['Железобетонные.перекрытия', 'Смешанные.перекрытия','Деревянные.перекрытия', 'Иные.перекрытия'],\n",
    "                  ['Панельные.стены', 'Блочные.стены', 'Деревянные.стены', 'Кирпичные.стены', 'Монолитные.стены', 'Смешанные.стены']]\n",
    "to_drop = [group[-1] for group in feature_groups]\n",
    "\n",
    "feature_groups = [group[:-1] for group in feature_groups]\n",
    "numeric = ['Количество.комнат', 'Общая.площадь', 'Этаж', 'Этажей.в.доме','Школа.1000', 'ВУЗ.1000',\n",
    "       'ТЦ.1000', 'Стоматология.1000', 'Почта.1000', 'Поликлиника.1000',\n",
    "       'Парк.1000', 'Остановка.1000', 'Одежда..1000', 'Супер3кет.1000',\n",
    "       'Кинотеатр.1000', 'Кафе.1000', 'АЗС.1000', 'Детский.сад.1000',\n",
    "       'Бар.1000', 'Банк.1000', 'Аптека.1000']\n",
    "\n",
    "\n",
    "\n",
    "# Сохраняем оставшиеся категориальные данные\n",
    "categorical = []\n",
    "\n",
    "[categorical.extend(group)for group in feature_groups]\n",
    "\n",
    "dataframe = utils.preprocess_df(dataframe, OUTPUT_COLUMN, categorical, numeric, to_drop=to_drop)\n",
    "dataframe.head(5)\n"
   ]
  },
  {
   "cell_type": "code",
   "execution_count": 3,
   "metadata": {},
   "outputs": [],
   "source": [
    "x_train, x_test, y_train, y_test = train_test_split(dataframe.drop(columns=OUTPUT_COLUMN), dataframe[OUTPUT_COLUMN])"
   ]
  },
  {
   "cell_type": "code",
   "execution_count": 4,
   "metadata": {},
   "outputs": [],
   "source": [
    "# R2 метрика каждого из методов.\n",
    "# Полиномиальная регрессия - лучший результат из предыдущей работы\n",
    "results = {\"Полиномиальная регрессия\": 0.92}"
   ]
  },
  {
   "cell_type": "markdown",
   "metadata": {},
   "source": [
    "# Одиночное дерево решений"
   ]
  },
  {
   "cell_type": "code",
   "execution_count": 5,
   "metadata": {},
   "outputs": [],
   "source": [
    "reg_tree = DecisionTreeRegressor()\n",
    "params = {\"criterion\": [\"squared_error\", \"friedman_mse\", \"absolute_error\", \"poisson\"], \"splitter\": [\"best\", \"random\"]}\n",
    "reg_tree = utils.grid_search(reg_tree, params, x_train, y_train)\n",
    "predicted = reg_tree.predict(x_test)\n",
    "metrics = utils.get_regression_metrics(y_test, predicted)\n",
    "results['Дерево решений'] = metrics['R2']"
   ]
  },
  {
   "cell_type": "code",
   "execution_count": 6,
   "metadata": {},
   "outputs": [],
   "source": [
    "# Обрезка дерева\n",
    "# Обрезка дерева\n",
    "ccp_alphas = reg_tree.cost_complexity_pruning_path(x_train, y_train).ccp_alphas\n",
    "best_accuracy = 0\n",
    "for alpha in ccp_alphas:\n",
    "    pruned_reg = DecisionTreeRegressor()\n",
    "    pruned_reg.set_params(**reg_tree.get_params())\n",
    "    pruned_reg.set_params(**{\"ccp_alpha\": alpha})\n",
    "    pruned_reg.fit(x_train, y_train)\n",
    "    accuracy = utils.get_regression_metrics(y_test, pruned_reg.predict(x_test))['R2']\n",
    "    \n",
    "    if accuracy > best_accuracy:\n",
    "        best_accuracy = accuracy\n",
    "        best_alpha = alpha\n",
    "        pruned_tree_reg = pruned_reg\n",
    "#pruned_tree_clf = best_clf\n",
    "metrics = utils.get_regression_metrics(y_test, pruned_tree_reg.predict(x_test))\n",
    "results['Обрезанное дерево решений'] = metrics['R2']"
   ]
  },
  {
   "cell_type": "code",
   "execution_count": 7,
   "metadata": {},
   "outputs": [
    {
     "data": {
      "text/plain": [
       "{'Полиномиальная регрессия': 0.92,\n",
       " 'Дерево решений': 0.8284517831111148,\n",
       " 'Обрезанное дерево решений': 0.8666633709739432}"
      ]
     },
     "execution_count": 7,
     "metadata": {},
     "output_type": "execute_result"
    }
   ],
   "source": [
    "results"
   ]
  },
  {
   "cell_type": "markdown",
   "metadata": {},
   "source": [
    "# Бэггинг"
   ]
  },
  {
   "cell_type": "code",
   "execution_count": 8,
   "metadata": {},
   "outputs": [],
   "source": [
    "# Использует обрезанное дерево из предыдущего раздела\n",
    "params = {'n_estimators': range(3, 11)}\n",
    "bagging_clf = utils.grid_search(BaggingRegressor(pruned_tree_reg), params, x_train, y_train)\n",
    "predicted = bagging_clf.predict(x_test)\n",
    "metrics = utils.get_regression_metrics(y_test, predicted)\n",
    "results['Бэггинг'] = metrics['R2']"
   ]
  },
  {
   "cell_type": "markdown",
   "metadata": {},
   "source": [
    "# Бустинг"
   ]
  },
  {
   "cell_type": "code",
   "execution_count": 9,
   "metadata": {},
   "outputs": [],
   "source": [
    "params = {'learning_rate': [x/100 for x in range(1, 110, 20)], 'n_estimators': range(20, 200, 40),}\n",
    "boosting_reg = utils.grid_search(GradientBoostingRegressor(), params, x_train, y_train)\n",
    "predicted = boosting_reg.predict(x_test)\n",
    "metrics = utils.get_regression_metrics(y_test, predicted)\n",
    "results['Бустинг'] = metrics['R2']"
   ]
  },
  {
   "cell_type": "markdown",
   "metadata": {},
   "source": [
    "# Стекинг"
   ]
  },
  {
   "cell_type": "code",
   "execution_count": 10,
   "metadata": {},
   "outputs": [],
   "source": [
    "# Включает в себя модели из предыдущей работы, а также обрезанное дерево решений, полученное выше\n",
    "# Модели и их параметры из предыдущей работы\n",
    "models_data = [{\"name\": \"Linear\", \"model\": LinearRegression(), \"params\": {'n_jobs': range(1, 11)}},\n",
    "               {\"name\": \"Lasso\", \"model\": Lasso(), \"params\": {'alpha': range(1, 10)}},\n",
    "               {\"name\": \"Ridge\", \"model\": Ridge(), \"params\": {'alpha': range(1, 10), 'solver': [\"auto\", \"svd\", \"cholesky\", \"lsqr\", \"sparse_cg\", \"sag\", \"saga\"]}},\n",
    "               #{\"name\": \"SVR\", \"model\": SVR(), \"params\": {'kernel': ['linear', 'poly', 'rbf', 'sigmoid']}},\n",
    "               #{\"name\": \"Bayesian\", \"model\": BayesianRidge(), \"params\": {'alpha_1': [x/100000 for x in range(1, 5)], 'alpha_2': [x/100000 for x in range(1, 5)],'lambda_1': [x/100000 for x in range(1, 5)], 'lambda_2': [x/100000 for x in range(1, 5)]}},\n",
    "               {\"name\": \"Lars\", \"model\": Lars(), \"params\": {}},\n",
    "               #{\"name\": \"SGDRegression\", \"model\": SGDRegressor(), \"params\": {'loss': ['squared_error', 'huber', 'epsilon_insensitive', 'squared_epsilon_insensitive'], 'penalty': ['l1', 'l2', 'elasticnet']}},\n",
    "               ]\n",
    "\n",
    "stacking_models = [(model_data['name'], utils.grid_search(model_data['model'], model_data['params'], x_train, y_train)) for model_data in models_data]\n",
    "stacking_models.append((\"Pruned tree\", pruned_tree_reg))\n",
    "stacking_reg = StackingRegressor(stacking_models)\n",
    "stacking_reg.fit(x_train, y_train)\n",
    "predicted = stacking_reg.predict(x_test)\n",
    "metrics = utils.get_regression_metrics(y_test, predicted)\n",
    "#results['Стекинг'] = metrics['R2']"
   ]
  },
  {
   "cell_type": "code",
   "execution_count": 11,
   "metadata": {},
   "outputs": [
    {
     "name": "stdout",
     "output_type": "stream",
     "text": [
      "{'RMSE': 294583.6424829613, 'R2': 0.9128678935018699}\n",
      "{'RMSE': 294390.66452408687, 'R2': 0.9129820143567577}\n",
      "{'RMSE': 322692.1539107256, 'R2': 0.8954466940393395}\n",
      "{'RMSE': 2.799316389918765e+19, 'R2': -7.868010517588655e+26}\n",
      "{'RMSE': 364413.33156083996, 'R2': 0.8666633709739432}\n"
     ]
    }
   ],
   "source": [
    "for item in stacking_models:\n",
    "    print(utils.get_regression_metrics(y_test, item[1].predict(x_test)))"
   ]
  },
  {
   "cell_type": "code",
   "execution_count": 12,
   "metadata": {},
   "outputs": [],
   "source": [
    "results['Стекинг'] = metrics['R2']"
   ]
  },
  {
   "cell_type": "code",
   "execution_count": 13,
   "metadata": {},
   "outputs": [
    {
     "data": {
      "text/plain": [
       "{'Полиномиальная регрессия': 0.92,\n",
       " 'Дерево решений': 0.8284517831111148,\n",
       " 'Обрезанное дерево решений': 0.8666633709739432,\n",
       " 'Бэггинг': 0.8741808971223554,\n",
       " 'Бустинг': 0.9207413067012461,\n",
       " 'Стекинг': -3.8782076365327694e+23}"
      ]
     },
     "execution_count": 13,
     "metadata": {},
     "output_type": "execute_result"
    }
   ],
   "source": [
    "results"
   ]
  },
  {
   "cell_type": "code",
   "execution_count": 14,
   "metadata": {},
   "outputs": [
    {
     "data": {
      "image/png": "[encoded data removed]",
      "text/plain": [
       "<Figure size 1500x700 with 1 Axes>"
      ]
     },
     "metadata": {},
     "output_type": "display_data"
    }
   ],
   "source": [
    "plt.figure(figsize=(15, 7))\n",
    "plt.bar(results.keys(), results.values())\n",
    "plt.show()"
   ]
  }
 ],
 "metadata": {
  "kernelspec": {
   "display_name": "Python 3",
   "language": "python",
   "name": "python3"
  },
  "language_info": {
   "codemirror_mode": {
    "name": "ipython",
    "version": 3
   },
   "file_extension": ".py",
   "mimetype": "text/x-python",
   "name": "python",
   "nbconvert_exporter": "python",
   "pygments_lexer": "ipython3",
   "version": "3.11.3"
  }
 },
 "nbformat": 4,
 "nbformat_minor": 2
}
