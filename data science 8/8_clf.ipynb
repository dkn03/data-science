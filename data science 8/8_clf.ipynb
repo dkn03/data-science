{
 "cells": [
  {
   "cell_type": "code",
   "execution_count": 1,
   "metadata": {},
   "outputs": [],
   "source": [
    "import pandas as pd\n",
    "import matplotlib.pyplot as plt\n",
    "\n",
    "from sklearn.tree import DecisionTreeClassifier\n",
    "from sklearn.ensemble import BaggingClassifier, GradientBoostingClassifier, StackingClassifier\n",
    "from sklearn.neighbors import KNeighborsClassifier\n",
    "from sklearn.linear_model import LogisticRegression\n",
    "from sklearn.svm import SVC\n",
    "from sklearn.model_selection import  train_test_split\n",
    "\n",
    "import utils\n",
    "\n",
    "import warnings\n",
    "warnings.filterwarnings('ignore')"
   ]
  },
  {
   "cell_type": "markdown",
   "metadata": {},
   "source": [
    "# Предобработка данных"
   ]
  },
  {
   "cell_type": "code",
   "execution_count": 2,
   "metadata": {},
   "outputs": [],
   "source": [
    "dataframe = pd.read_csv('telecom_churn.csv')\n",
    "dataframe['Area code'] = dataframe['Area code'].astype(str)\n",
    "OUTPUT_COLUMN = 'Churn'\n",
    "to_drop = ['State']\n",
    "categorical = ['Area code', 'International plan', 'Voice mail plan']\n",
    "\n",
    "dataframe = utils.preprocess_df(dataframe, OUTPUT_COLUMN, categorical, to_drop= to_drop, resample=True)\n"
   ]
  },
  {
   "cell_type": "code",
   "execution_count": 3,
   "metadata": {},
   "outputs": [],
   "source": [
    "# Разделение на тренировочную и тестовую выборки\n",
    "x_train, x_test, y_train, y_test = train_test_split(dataframe.drop(columns=OUTPUT_COLUMN), dataframe[OUTPUT_COLUMN])"
   ]
  },
  {
   "cell_type": "code",
   "execution_count": 4,
   "metadata": {},
   "outputs": [],
   "source": [
    "# Точность каждого из методов.\n",
    "# Метод опорных векторов - лучший результат из предыдущей работы\n",
    "results = {'Метод опорных векторов': 0.909}"
   ]
  },
  {
   "cell_type": "markdown",
   "metadata": {},
   "source": [
    "# Дерево решений"
   ]
  },
  {
   "cell_type": "code",
   "execution_count": 5,
   "metadata": {},
   "outputs": [],
   "source": [
    "clf = DecisionTreeClassifier()\n",
    "params = {'criterion': ['gini', 'entropy', 'log_loss'], 'splitter': ['best', 'random'], 'max_features': ['sqrt', 'log2']}\n",
    "clf = utils.grid_search(clf, params, x_train, y_train)\n",
    "predicted = clf.predict(x_test)\n",
    "metrics = utils.get_classification_metrics(y_test, predicted)\n",
    "results['Дерево решений'] = metrics['Accuracy']"
   ]
  },
  {
   "cell_type": "code",
   "execution_count": 6,
   "metadata": {},
   "outputs": [],
   "source": [
    "# Обрезка дерева\n",
    "ccp_alphas = clf.cost_complexity_pruning_path(x_train, y_train).ccp_alphas\n",
    "best_accuracy = 0\n",
    "for alpha in ccp_alphas:\n",
    "    pruned_clf = DecisionTreeClassifier()\n",
    "    pruned_clf.set_params(**clf.get_params())\n",
    "    pruned_clf.set_params(**{\"ccp_alpha\": alpha})\n",
    "    pruned_clf.fit(x_train, y_train)\n",
    "    accuracy = utils.get_classification_metrics(y_test, pruned_clf.predict(x_test))['Accuracy']\n",
    "    if accuracy > best_accuracy:\n",
    "        best_accuracy = accuracy\n",
    "        best_alpha = alpha\n",
    "        pruned_tree_clf = pruned_clf\n",
    "#pruned_tree_clf = best_clf\n",
    "metrics = utils.get_classification_metrics(y_test, pruned_tree_clf.predict(x_test))\n",
    "results['Обрезанное дерево решений'] = metrics['Accuracy']"
   ]
  },
  {
   "cell_type": "code",
   "execution_count": null,
   "metadata": {},
   "outputs": [],
   "source": []
  },
  {
   "cell_type": "markdown",
   "metadata": {},
   "source": [
    "# Бэггинг"
   ]
  },
  {
   "cell_type": "code",
   "execution_count": 7,
   "metadata": {},
   "outputs": [],
   "source": [
    "# Использует обрезанное дерево из предыдущего раздела\n",
    "params = {'n_estimators': range(3, 11)}\n",
    "bagging_clf = utils.grid_search(BaggingClassifier(pruned_tree_clf), params, x_train, y_train)\n",
    "predicted = bagging_clf.predict(x_test)\n",
    "metrics = utils.get_classification_metrics(y_test, predicted)\n",
    "results['Бэггинг'] = metrics['Accuracy']"
   ]
  },
  {
   "cell_type": "markdown",
   "metadata": {},
   "source": [
    "# Бустинг"
   ]
  },
  {
   "cell_type": "code",
   "execution_count": 8,
   "metadata": {},
   "outputs": [],
   "source": [
    "params = {'learning_rate': [x/100 for x in range(1, 110, 20)], 'n_estimators': range(20, 200, 40),}\n",
    "clf = utils.grid_search(GradientBoostingClassifier(), params, x_train, y_train)\n",
    "predicted = bagging_clf.predict(x_test)\n",
    "metrics = utils.get_classification_metrics(y_test, predicted)\n",
    "results['Бустинг'] = metrics['Accuracy']"
   ]
  },
  {
   "cell_type": "markdown",
   "metadata": {},
   "source": [
    "# Стэкинг"
   ]
  },
  {
   "cell_type": "code",
   "execution_count": 9,
   "metadata": {},
   "outputs": [],
   "source": [
    "# Включает в себя модели из предыдущей работы, а также дерево решений, полученное выше\n",
    "\n",
    "# Модели и настраиваемые гиперпараметры из предыдущей работы\n",
    "models_data = [{'name': 'К-ближайших соседей', 'model': KNeighborsClassifier, 'params': {'n_neighbors':range(1, 11), 'weights':('uniform', 'distance'),\n",
    "              'algorithm':('auto', 'ball_tree', 'kd_tree', 'brute')}},\n",
    "\n",
    "              {'name': 'Логистическая регрессия', 'model': LogisticRegression,  'params': {'C':range(1, 10), 'penalty':(None, 'l1', 'l2', 'elasticnet'), \n",
    "              'solver':(['saga']), 'l1_ratio':([0.5])}},\n",
    "\n",
    "              {'name': 'Метод опорных векторов', 'model':  SVC, 'params': {'kernel':('rbf', 'linear', 'poly'), 'C':(range(1, 10))}}\n",
    "]\n",
    "stacking_models = [(model_data['name'], utils.grid_search(model_data['model'](), model_data['params'], x_train, y_train)) for model_data in models_data]\n",
    "stacking_models.append((\"Обрезанное дерево\", pruned_tree_clf))\n",
    "stacking_clf = StackingClassifier(stacking_models)\n",
    "stacking_clf.fit(x_train, y_train)\n",
    "predicted = stacking_clf.predict(x_test)\n",
    "metrics = utils.get_classification_metrics(y_test, predicted)\n",
    "results['Стекинг'] = metrics['Accuracy']"
   ]
  },
  {
   "cell_type": "code",
   "execution_count": 10,
   "metadata": {},
   "outputs": [
    {
     "data": {
      "text/plain": [
       "{'Метод опорных векторов': 0.909,\n",
       " 'Дерево решений': 0.8796886058032555,\n",
       " 'Обрезанное дерево решений': 0.9263977353149327,\n",
       " 'Бэггинг': 0.940552016985138,\n",
       " 'Бустинг': 0.940552016985138,\n",
       " 'Стекинг': 0.9532908704883227}"
      ]
     },
     "execution_count": 10,
     "metadata": {},
     "output_type": "execute_result"
    }
   ],
   "source": [
    "results"
   ]
  },
  {
   "cell_type": "code",
   "execution_count": null,
   "metadata": {},
   "outputs": [],
   "source": []
  },
  {
   "cell_type": "code",
   "execution_count": 11,
   "metadata": {},
   "outputs": [
    {
     "data": {
      "image/png": "[encoded data removed]",
      "text/plain": [
       "<Figure size 1500x700 with 1 Axes>"
      ]
     },
     "metadata": {},
     "output_type": "display_data"
    }
   ],
   "source": [
    "plt.figure(figsize=(15, 7))\n",
    "plt.bar(results.keys(), results.values())\n",
    "plt.show()"
   ]
  }
 ],
 "metadata": {
  "kernelspec": {
   "display_name": "Python 3",
   "language": "python",
   "name": "python3"
  },
  "language_info": {
   "codemirror_mode": {
    "name": "ipython",
    "version": 3
   },
   "file_extension": ".py",
   "mimetype": "text/x-python",
   "name": "python",
   "nbconvert_exporter": "python",
   "pygments_lexer": "ipython3",
   "version": "3.11.3"
  }
 },
 "nbformat": 4,
 "nbformat_minor": 2
}
